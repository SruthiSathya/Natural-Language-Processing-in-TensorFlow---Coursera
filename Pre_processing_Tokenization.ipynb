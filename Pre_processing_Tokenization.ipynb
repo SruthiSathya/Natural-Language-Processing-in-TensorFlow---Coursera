{
  "nbformat": 4,
  "nbformat_minor": 0,
  "metadata": {
    "colab": {
      "name": "Pre-processing - Tokenization.ipynb",
      "provenance": [],
      "authorship_tag": "ABX9TyMRrJQ5nHgBW54H6oeB+7R9",
      "include_colab_link": true
    },
    "kernelspec": {
      "name": "python3",
      "display_name": "Python 3"
    }
  },
  "cells": [
    {
      "cell_type": "markdown",
      "metadata": {
        "id": "view-in-github",
        "colab_type": "text"
      },
      "source": [
        "<a href=\"https://colab.research.google.com/github/SruthiSathya/Natural-Language-Processing-in-TensorFlow---Coursera/blob/master/Pre_processing_Tokenization.ipynb\" target=\"_parent\"><img src=\"https://colab.research.google.com/assets/colab-badge.svg\" alt=\"Open In Colab\"/></a>"
      ]
    },
    {
      "cell_type": "markdown",
      "metadata": {
        "id": "MohJQ-lmJnFE",
        "colab_type": "text"
      },
      "source": [
        "\n",
        "# Natural Language Processing in TensorFlow\n",
        "## Pre-processing - Tokenization \n",
        "\n",
        "key words: \n",
        "1. Tokenization \n",
        "2. Padding \n",
        "3. Truncating \n",
        "4. Max len \n"
      ]
    },
    {
      "cell_type": "code",
      "metadata": {
        "id": "BLxC7qhlj4f9",
        "colab_type": "code",
        "colab": {
          "base_uri": "https://localhost:8080/",
          "height": 187
        },
        "outputId": "01e192d1-355c-40e1-b750-dcb1728c3b4f"
      },
      "source": [
        "import tensorflow as tf\n",
        "from tensorflow import keras\n",
        "from tensorflow.keras.preprocessing.text import Tokenizer\n",
        "from tensorflow.keras.preprocessing.sequence import pad_sequences\n",
        "\n",
        "sentences = [\n",
        "             'I love my dog',\n",
        "             'I love my cat',\n",
        "             'You love my dog!',\n",
        "             'Do you think my dog is amazing?'\n",
        "]\n",
        "'''\n",
        "The tokenizer takes the top num_words passed to it and maps it to a numerical encoded value\n",
        "\n",
        "if the num_words is less than the actual number of words passed as a sequence,\n",
        "upon printing you will realize that only whatever was mapped will get allocated and the rest will not be allocated.\n",
        "Hence the size of the matrix will be restricted to the num_words\n",
        "'''\n",
        "tokenizer = Tokenizer(num_words = 4)\n",
        "tokenizer.fit_on_texts(sentences)   # maps the unique words from the list passed to the encoded values\n",
        "word_index = tokenizer.word_index\n",
        "print(word_index) # upon running this the 'I' is transformed into 'i'. The tokenizer strips puntuation out\n",
        "\n",
        "sequences = tokenizer.texts_to_sequences(sentences)\n",
        "print(sequences)      \n",
        "\n",
        "'''\n",
        "The following will help you when you are looking at the bigger picture\n",
        "If you wish to decipher the sentence using the encoded list of numbers, then you ought to use the same tokenizer. \n",
        "You shant pass a different sentence list to the tokenizer which it was not initialized with.\n",
        "'''\n",
        "\n",
        "padded = pad_sequences(sequences )\n",
        "print(padded)\n",
        "padded_post= pad_sequences(sequences, padding = 'post', truncating = 'post', maxlen = 4 )\n",
        "print(padded_post)\n",
        "\n"
      ],
      "execution_count": 5,
      "outputs": [
        {
          "output_type": "stream",
          "text": [
            "{'my': 1, 'love': 2, 'dog': 3, 'i': 4, 'you': 5, 'cat': 6, 'do': 7, 'think': 8, 'is': 9, 'amazing': 10}\n",
            "[[2, 1, 3], [2, 1], [2, 1, 3], [1, 3]]\n",
            "[[2 1 3]\n",
            " [0 2 1]\n",
            " [2 1 3]\n",
            " [0 1 3]]\n",
            "[[2 1 3 0]\n",
            " [2 1 0 0]\n",
            " [2 1 3 0]\n",
            " [1 3 0 0]]\n"
          ],
          "name": "stdout"
        }
      ]
    },
    {
      "cell_type": "code",
      "metadata": {
        "id": "ncvQZAyxkC4Z",
        "colab_type": "code",
        "colab": {
          "resources": {
            "http://localhost:8080/nbextensions/google.colab/files.js": {
              "data": "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",
              "ok": true,
              "headers": [
                [
                  "content-type",
                  "application/javascript"
                ]
              ],
              "status": 200,
              "status_text": ""
            }
          },
          "base_uri": "https://localhost:8080/",
          "height": 74
        },
        "outputId": "dd430b04-186d-4edb-a576-3701b0561c36"
      },
      "source": [
        "from google.colab import files \n",
        "sarcasm_data = files.upload()"
      ],
      "execution_count": 9,
      "outputs": [
        {
          "output_type": "display_data",
          "data": {
            "text/html": [
              "\n",
              "     <input type=\"file\" id=\"files-75a3e8e2-8a8a-4e5d-bb3b-a6d74323138a\" name=\"files[]\" multiple disabled />\n",
              "     <output id=\"result-75a3e8e2-8a8a-4e5d-bb3b-a6d74323138a\">\n",
              "      Upload widget is only available when the cell has been executed in the\n",
              "      current browser session. Please rerun this cell to enable.\n",
              "      </output>\n",
              "      <script src=\"/nbextensions/google.colab/files.js\"></script> "
            ],
            "text/plain": [
              "<IPython.core.display.HTML object>"
            ]
          },
          "metadata": {
            "tags": []
          }
        },
        {
          "output_type": "stream",
          "text": [
            "Saving data.json to data.json\n"
          ],
          "name": "stdout"
        }
      ]
    },
    {
      "cell_type": "code",
      "metadata": {
        "id": "lGyXu9l1kZxs",
        "colab_type": "code",
        "colab": {
          "base_uri": "https://localhost:8080/",
          "height": 105
        },
        "outputId": "04075b69-6c0e-43df-c7b6-7326eebd4685"
      },
      "source": [
        "import json \n",
        "\n",
        "from tensorflow import keras\n",
        "from tensorflow.keras.preprocessing.text import Tokenizer\n",
        "from tensorflow.keras.preprocessing.sequence import pad_sequences\n",
        "\n",
        "with open( 'data.json') as f:\n",
        "  datastore = json.load(f)\n",
        "\n",
        "sentences = []\n",
        "labels = []\n",
        "urls = []\n",
        "\n",
        "\n",
        "for item in datastore:\n",
        "  sentences.append( item[ 'headline'  ]  )\n",
        "  labels.append( item[ 'is_sarcastic'  ]  )\n",
        "  urls.append( item[ 'article_link'  ]   )\n",
        "\n",
        "\n",
        "\n",
        "tokenizer = Tokenizer(oov_token = \"<OOV>\")\n",
        "tokenizer.fit_on_texts(sentences)   # maps the unique words from the list passed to the encoded values\n",
        "word_index = tokenizer.word_index\n",
        "print(word_index) # upon running this the 'I' is transformed into 'i'. The tokenizer strips puntuation out\n",
        "\n",
        "sequences = tokenizer.texts_to_sequences(sentences)\n",
        "print(sequences)    \n",
        "\n",
        "padded_post= pad_sequences(sequences, padding = 'post')\n",
        "print(padded_post[0])\n",
        "print(padded_post.shape)\n"
      ],
      "execution_count": 13,
      "outputs": [
        {
          "output_type": "stream",
          "text": [
            "{'<OOV>': 1, 'to': 2, 'for': 3, 'the': 4, 'and': 5, 'in': 6, 'up': 7, 'better': 8, 'she': 9, 'will': 10, 'just': 11, 'come': 12, 'this': 13, 'you': 14, 'his': 15, 'who': 16, 'bomb': 17, 'trump': 18, 'has': 19, 'why': 20, 'by': 21, 'former': 22, 'versace': 23, 'store': 24, 'clerk': 25, 'sues': 26, 'over': 27, 'secret': 28, \"'black\": 29, \"code'\": 30, 'minority': 31, 'shoppers': 32, \"'roseanne'\": 33, 'revival': 34, 'catches': 35, 'our': 36, 'thorny': 37, 'political': 38, 'mood': 39, 'worse': 40, 'mom': 41, 'starting': 42, 'fear': 43, \"son's\": 44, 'web': 45, 'series': 46, 'closest': 47, 'thing': 48, 'have': 49, 'grandchild': 50, 'boehner': 51, 'wants': 52, 'wife': 53, 'listen': 54, 'not': 55, 'with': 56, 'alternative': 57, 'debt': 58, 'reduction': 59, 'ideas': 60, 'j': 61, 'k': 62, 'rowling': 63, 'wishes': 64, 'snape': 65, 'happy': 66, 'birthday': 67, 'most': 68, 'magical': 69, 'way': 70, 'advancing': 71, \"world's\": 72, 'women': 73, 'fascinating': 74, 'case': 75, 'eating': 76, 'lab': 77, 'grown': 78, 'meat': 79, 'ceo': 80, 'send': 81, 'your': 82, 'kids': 83, 'school': 84, 'if': 85, 'work': 86, 'company': 87, 'top': 88, 'snake': 89, 'handler': 90, 'leaves': 91, 'sinking': 92, 'huckabee': 93, 'campaign': 94, \"friday's\": 95, 'morning': 96, 'email': 97, 'inside': 98, \"trump's\": 99, 'presser': 100, 'ages': 101, 'airline': 102, 'passengers': 103, 'tackle': 104, 'man': 105, 'rushes': 106, 'cockpit': 107, 'threat': 108, 'facebook': 109, 'reportedly': 110, 'working': 111, 'on': 112, 'healthcare': 113, 'features': 114, 'apps': 115, 'north': 116, 'korea': 117, 'praises': 118, 'urges': 119, 'us': 120, 'voters': 121, 'reject': 122, \"'dull\": 123, \"hillary'\": 124, 'actually': 125, \"cnn's\": 126, 'jeffrey': 127, 'lord': 128, 'been': 129, \"'indefensible'\": 130, 'a': 131, 'while': 132, 'barcelona': 133, 'holds': 134, 'huge': 135, 'protest': 136, 'support': 137, 'of': 138, 'refugees': 139, 'nuclear': 140, 'detonates': 141, 'during': 142, 'rehearsal': 143, \"'spider\": 144, \"man'\": 145, 'musical': 146, 'cosby': 147, 'lawyer': 148, 'asks': 149, 'accusers': 150, \"didn't\": 151, 'forward': 152, 'be': 153, 'smeared': 154, 'legal': 155, 'team': 156, 'years': 157, 'ago': 158, 'stock': 159, 'analysts': 160, 'confused': 161, 'frightened': 162, 'boar': 163, 'market': 164, \"bloomberg's\": 165, 'program': 166, 'build': 167, 'cities': 168, 'got': 169, 'bigger': 170, 'craig': 171, 'hicks': 172, 'indicted': 173, 'courtroom': 174, 'sketch': 175, 'artist': 176, 'clear': 177, 'manga': 178, 'influences': 179, 'assures': 180, 'nation': 181, 'that': 182, 'decision': 183, 'syrian': 184, 'airstrikes': 185, 'came': 186, 'after': 187, 'carefully': 188, 'considering': 189, 'all': 190, 'passing': 191, 'whims': 192, 'qatar': 193, 'deporting': 194, 'dutch': 195, 'woman': 196, 'reported': 197, 'was': 198, 'drugged': 199, 'raped': 200, 'is': 201, \"shouldn't\": 202, 'go': 203, 'circus': 204}\n",
            "[[22, 23, 24, 25, 26, 27, 28, 29, 30, 3, 31, 32], [4, 33, 34, 35, 7, 2, 36, 37, 38, 39, 3, 8, 5, 40], [41, 42, 2, 43, 44, 45, 46, 47, 48, 9, 10, 49, 2, 50], [51, 11, 52, 53, 2, 54, 55, 12, 7, 56, 57, 58, 59, 60], [61, 62, 63, 64, 65, 66, 67, 6, 4, 68, 69, 70], [71, 4, 72, 73], [4, 74, 75, 3, 76, 77, 78, 79], [13, 80, 10, 81, 82, 83, 2, 84, 85, 14, 86, 3, 15, 87], [88, 89, 90, 91, 92, 93, 94], [95, 96, 97, 98, 99, 100, 3, 4, 101], [102, 103, 104, 105, 16, 106, 107, 6, 17, 108], [109, 110, 111, 112, 113, 114, 5, 115], [116, 117, 118, 18, 5, 119, 120, 121, 2, 122, 123, 124], [125, 126, 127, 128, 19, 129, 130, 3, 131, 132], [133, 134, 135, 136, 6, 137, 138, 139], [140, 17, 141, 142, 143, 3, 144, 145, 146], [147, 148, 149, 20, 150, 151, 12, 152, 2, 153, 154, 21, 155, 156, 157, 158], [159, 160, 161, 162, 21, 163, 164], [165, 166, 2, 167, 8, 168, 11, 169, 170], [171, 172, 173], [174, 175, 176, 19, 177, 178, 179], [18, 180, 181, 182, 183, 3, 184, 185, 186, 187, 188, 189, 190, 15, 191, 192], [193, 194, 195, 196, 16, 197, 9, 198, 199, 5, 200], [13, 201, 20, 14, 202, 203, 2, 4, 204]]\n",
            "[22 23 24 25 26 27 28 29 30  3 31 32  0  0  0  0]\n",
            "(24, 16)\n"
          ],
          "name": "stdout"
        }
      ]
    }
  ]
}